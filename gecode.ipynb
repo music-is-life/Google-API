{
 "cells": [
  {
   "cell_type": "markdown",
   "metadata": {},
   "source": [
    "# Using google API service for relative distance between cities"
   ]
  },
  {
   "cell_type": "code",
   "execution_count": 237,
   "metadata": {},
   "outputs": [],
   "source": [
    "import requests\n",
    "\n",
    "def file():\n",
    "    file = input('please enter file location: ')\n",
    "    file = open(file, encoding = 'utf8')\n",
    "    return file"
   ]
  },
  {
   "cell_type": "code",
   "execution_count": 238,
   "metadata": {},
   "outputs": [],
   "source": [
    "def distance_mat(url):\n",
    "    distance_mat_list = []\n",
    "    url = url\n",
    "    try: \n",
    "        response = requests.get(url)\n",
    "        if not response.status_code==200:\n",
    "            print('HTTP error', response.status_code)\n",
    "        else:\n",
    "            try:\n",
    "                response_data = response.json()\n",
    "                distance= response_data['rows'][0]['elements'][0]['distance']['text']\n",
    "                duration = response_data['rows'][0]['elements'][0]['duration']['text']\n",
    "                distance_mat_list = [distance, duration]\n",
    "            except:\n",
    "                print('Response not in vaild JSON format')\n",
    "    except:\n",
    "        print('somthing went wrong with request.GET')\n",
    "    return distance_mat_list"
   ]
  },
  {
   "cell_type": "markdown",
   "metadata": {},
   "source": [
    "now we will define Geocode function to get longtide, latitude"
   ]
  },
  {
   "cell_type": "code",
   "execution_count": 239,
   "metadata": {},
   "outputs": [],
   "source": [
    "def geo_mat(url):\n",
    "    geo_list = []\n",
    "    url = url\n",
    "    try: \n",
    "        response = requests.get(url)\n",
    "        if not response.status_code==200:\n",
    "            print('HTTP error in GEO', response.status_code)\n",
    "        else:\n",
    "            try:\n",
    "                response_data = response.json()\n",
    "                longitude= response_data['results'][0]['geometry']['location']['lng']\n",
    "                latitude = response_data['results'][0]['geometry']['location']['lat']\n",
    "                geo_list = [longitude, latitude]\n",
    "            except:\n",
    "                print('Response not in vaild JSON format in GEO')\n",
    "    except:\n",
    "        print('somthing went wrong with request.GET in GEO')\n",
    "    return geo_list"
   ]
  },
  {
   "cell_type": "markdown",
   "metadata": {},
   "source": [
    "now we will use the function to create full dictionary with the values"
   ]
  },
  {
   "cell_type": "code",
   "execution_count": null,
   "metadata": {},
   "outputs": [],
   "source": [
    "file = file()\n",
    "def cities_relative_info ():\n",
    "    \n",
    "    api_key = input('please enter you API key: ')\n",
    "    full_dic = dict()\n",
    "\n",
    "    for line in file:\n",
    "        line = line.rstrip()\n",
    "        origin = 'תל+אביב'\n",
    "        url = 'https://maps.googleapis.com/maps/api/geocode/json?'\n",
    "        url_2 = 'https://maps.googleapis.com/maps/api/distancematrix/json?'\n",
    "        full_dic[line] = {'distance':distance_mat(url_2 + f'origins={origin}&destinations={line}&key={api_key}')[0],'duration':distance_mat(url_2 + f'origins={origin}&destinations={line}&key={api_key}')[1],\n",
    "                          'lng':geo_mat(url + f'address={line}&key={api_key}')[0],'lat':geo_mat(url + f'address={line}&key={api_key}')[1]}\n",
    "    file.close()\n",
    "    return full_dic\n",
    "\n",
    "print(f'\\n{cities_relative_info()}')\n"
   ]
  }
 ],
 "metadata": {
  "kernelspec": {
   "display_name": "Python 3",
   "language": "python",
   "name": "python3"
  },
  "language_info": {
   "codemirror_mode": {
    "name": "ipython",
    "version": 3
   },
   "file_extension": ".py",
   "mimetype": "text/x-python",
   "name": "python",
   "nbconvert_exporter": "python",
   "pygments_lexer": "ipython3",
   "version": "3.8.5"
  }
 },
 "nbformat": 4,
 "nbformat_minor": 4
}
